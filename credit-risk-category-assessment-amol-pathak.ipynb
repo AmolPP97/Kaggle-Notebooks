{
 "cells": [
  {
   "cell_type": "markdown",
   "id": "4efd649a",
   "metadata": {
    "papermill": {
     "duration": 0.020912,
     "end_time": "2023-08-25T08:34:46.766491",
     "exception": false,
     "start_time": "2023-08-25T08:34:46.745579",
     "status": "completed"
    },
    "tags": []
   },
   "source": [
    "****The data used contains the credit history of the customers from a financial institution. Agenda is to predict for possible credit defaulters upfront and help the financial institutions to take steps accordingly.****"
   ]
  },
  {
   "cell_type": "code",
   "execution_count": 1,
   "id": "cc264230",
   "metadata": {
    "_cell_guid": "b1076dfc-b9ad-4769-8c92-a6c4dae69d19",
    "_uuid": "8f2839f25d086af736a60e9eeb907d3b93b6e0e5",
    "execution": {
     "iopub.execute_input": "2023-08-25T08:34:46.811074Z",
     "iopub.status.busy": "2023-08-25T08:34:46.810679Z",
     "iopub.status.idle": "2023-08-25T08:34:46.843178Z",
     "shell.execute_reply": "2023-08-25T08:34:46.842317Z"
    },
    "papermill": {
     "duration": 0.056654,
     "end_time": "2023-08-25T08:34:46.845446",
     "exception": false,
     "start_time": "2023-08-25T08:34:46.788792",
     "status": "completed"
    },
    "tags": []
   },
   "outputs": [
    {
     "name": "stdout",
     "output_type": "stream",
     "text": [
      "/kaggle/input/credit-risk-dataset/LCDataDictionary.xlsx\n",
      "/kaggle/input/credit-risk-dataset/loan/loan.csv\n"
     ]
    }
   ],
   "source": [
    "# This Python 3 environment comes with many helpful analytics libraries installed\n",
    "# It is defined by the kaggle/python Docker image: https://github.com/kaggle/docker-python\n",
    "# For example, here's several helpful packages to load\n",
    "\n",
    "import numpy as np # linear algebra\n",
    "import pandas as pd # data processing, CSV file I/O (e.g. pd.read_csv)\n",
    "\n",
    "# Input data files are available in the read-only \"../input/\" directory\n",
    "# For example, running this (by clicking run or pressing Shift+Enter) will list all files under the input directory\n",
    "\n",
    "import os\n",
    "for dirname, _, filenames in os.walk('/kaggle/input'):\n",
    "    for filename in filenames:\n",
    "        print(os.path.join(dirname, filename))\n",
    "\n",
    "# You can write up to 20GB to the current directory (/kaggle/working/) that gets preserved as output when you create a version using \"Save & Run All\" \n",
    "# You can also write temporary files to /kaggle/temp/, but they won't be saved outside of the current session"
   ]
  },
  {
   "cell_type": "code",
   "execution_count": 2,
   "id": "46e05c65",
   "metadata": {
    "execution": {
     "iopub.execute_input": "2023-08-25T08:34:46.877298Z",
     "iopub.status.busy": "2023-08-25T08:34:46.876669Z",
     "iopub.status.idle": "2023-08-25T08:34:48.435067Z",
     "shell.execute_reply": "2023-08-25T08:34:48.434136Z"
    },
    "papermill": {
     "duration": 1.577422,
     "end_time": "2023-08-25T08:34:48.437958",
     "exception": false,
     "start_time": "2023-08-25T08:34:46.860536",
     "status": "completed"
    },
    "tags": []
   },
   "outputs": [
    {
     "name": "stderr",
     "output_type": "stream",
     "text": [
      "/opt/conda/lib/python3.10/site-packages/scipy/__init__.py:146: UserWarning: A NumPy version >=1.16.5 and <1.23.0 is required for this version of SciPy (detected version 1.23.5\n",
      "  warnings.warn(f\"A NumPy version >={np_minversion} and <{np_maxversion}\"\n"
     ]
    }
   ],
   "source": [
    "# Imports\n",
    "import math\n",
    "import matplotlib.pyplot as plt\n",
    "import seaborn as sns\n",
    "\n",
    "from sklearn.preprocessing import LabelEncoder\n",
    "from sklearn.model_selection import train_test_split\n",
    "from xgboost import XGBClassifier\n",
    "from sklearn import metrics\n",
    "from sklearn.metrics import confusion_matrix\n",
    "\n",
    "from sklearn.model_selection import cross_val_score, cross_validate, StratifiedKFold"
   ]
  },
  {
   "cell_type": "markdown",
   "id": "1aba9b41",
   "metadata": {
    "papermill": {
     "duration": 0.01531,
     "end_time": "2023-08-25T08:34:48.469089",
     "exception": false,
     "start_time": "2023-08-25T08:34:48.453779",
     "status": "completed"
    },
    "tags": []
   },
   "source": [
    "## Data Extraction"
   ]
  },
  {
   "cell_type": "code",
   "execution_count": 3,
   "id": "3de994ed",
   "metadata": {
    "execution": {
     "iopub.execute_input": "2023-08-25T08:34:48.500732Z",
     "iopub.status.busy": "2023-08-25T08:34:48.500425Z",
     "iopub.status.idle": "2023-08-25T08:35:02.734676Z",
     "shell.execute_reply": "2023-08-25T08:35:02.733142Z"
    },
    "papermill": {
     "duration": 14.253216,
     "end_time": "2023-08-25T08:35:02.737304",
     "exception": false,
     "start_time": "2023-08-25T08:34:48.484088",
     "status": "completed"
    },
    "tags": []
   },
   "outputs": [
    {
     "name": "stderr",
     "output_type": "stream",
     "text": [
      "/tmp/ipykernel_23/3959651921.py:1: DtypeWarning: Columns (19,55) have mixed types. Specify dtype option on import or set low_memory=False.\n",
      "  loan_data_df =  pd.read_csv('/kaggle/input/credit-risk-dataset/loan/loan.csv')\n"
     ]
    }
   ],
   "source": [
    "loan_data_df =  pd.read_csv('/kaggle/input/credit-risk-dataset/loan/loan.csv')"
   ]
  },
  {
   "cell_type": "code",
   "execution_count": 4,
   "id": "551c2404",
   "metadata": {
    "execution": {
     "iopub.execute_input": "2023-08-25T08:35:02.771514Z",
     "iopub.status.busy": "2023-08-25T08:35:02.769744Z",
     "iopub.status.idle": "2023-08-25T08:35:02.799495Z",
     "shell.execute_reply": "2023-08-25T08:35:02.798573Z"
    },
    "papermill": {
     "duration": 0.048548,
     "end_time": "2023-08-25T08:35:02.801556",
     "exception": false,
     "start_time": "2023-08-25T08:35:02.753008",
     "status": "completed"
    },
    "tags": []
   },
   "outputs": [
    {
     "data": {
      "text/html": [
       "<div>\n",
       "<style scoped>\n",
       "    .dataframe tbody tr th:only-of-type {\n",
       "        vertical-align: middle;\n",
       "    }\n",
       "\n",
       "    .dataframe tbody tr th {\n",
       "        vertical-align: top;\n",
       "    }\n",
       "\n",
       "    .dataframe thead th {\n",
       "        text-align: right;\n",
       "    }\n",
       "</style>\n",
       "<table border=\"1\" class=\"dataframe\">\n",
       "  <thead>\n",
       "    <tr style=\"text-align: right;\">\n",
       "      <th></th>\n",
       "      <th>id</th>\n",
       "      <th>member_id</th>\n",
       "      <th>loan_amnt</th>\n",
       "      <th>funded_amnt</th>\n",
       "      <th>funded_amnt_inv</th>\n",
       "      <th>term</th>\n",
       "      <th>int_rate</th>\n",
       "      <th>installment</th>\n",
       "      <th>grade</th>\n",
       "      <th>sub_grade</th>\n",
       "      <th>...</th>\n",
       "      <th>total_bal_il</th>\n",
       "      <th>il_util</th>\n",
       "      <th>open_rv_12m</th>\n",
       "      <th>open_rv_24m</th>\n",
       "      <th>max_bal_bc</th>\n",
       "      <th>all_util</th>\n",
       "      <th>total_rev_hi_lim</th>\n",
       "      <th>inq_fi</th>\n",
       "      <th>total_cu_tl</th>\n",
       "      <th>inq_last_12m</th>\n",
       "    </tr>\n",
       "  </thead>\n",
       "  <tbody>\n",
       "    <tr>\n",
       "      <th>0</th>\n",
       "      <td>1077501</td>\n",
       "      <td>1296599</td>\n",
       "      <td>5000.0</td>\n",
       "      <td>5000.0</td>\n",
       "      <td>4975.0</td>\n",
       "      <td>36 months</td>\n",
       "      <td>10.65</td>\n",
       "      <td>162.87</td>\n",
       "      <td>B</td>\n",
       "      <td>B2</td>\n",
       "      <td>...</td>\n",
       "      <td>NaN</td>\n",
       "      <td>NaN</td>\n",
       "      <td>NaN</td>\n",
       "      <td>NaN</td>\n",
       "      <td>NaN</td>\n",
       "      <td>NaN</td>\n",
       "      <td>NaN</td>\n",
       "      <td>NaN</td>\n",
       "      <td>NaN</td>\n",
       "      <td>NaN</td>\n",
       "    </tr>\n",
       "    <tr>\n",
       "      <th>1</th>\n",
       "      <td>1077430</td>\n",
       "      <td>1314167</td>\n",
       "      <td>2500.0</td>\n",
       "      <td>2500.0</td>\n",
       "      <td>2500.0</td>\n",
       "      <td>60 months</td>\n",
       "      <td>15.27</td>\n",
       "      <td>59.83</td>\n",
       "      <td>C</td>\n",
       "      <td>C4</td>\n",
       "      <td>...</td>\n",
       "      <td>NaN</td>\n",
       "      <td>NaN</td>\n",
       "      <td>NaN</td>\n",
       "      <td>NaN</td>\n",
       "      <td>NaN</td>\n",
       "      <td>NaN</td>\n",
       "      <td>NaN</td>\n",
       "      <td>NaN</td>\n",
       "      <td>NaN</td>\n",
       "      <td>NaN</td>\n",
       "    </tr>\n",
       "  </tbody>\n",
       "</table>\n",
       "<p>2 rows × 74 columns</p>\n",
       "</div>"
      ],
      "text/plain": [
       "        id  member_id  loan_amnt  funded_amnt  funded_amnt_inv        term  \\\n",
       "0  1077501    1296599     5000.0       5000.0           4975.0   36 months   \n",
       "1  1077430    1314167     2500.0       2500.0           2500.0   60 months   \n",
       "\n",
       "   int_rate  installment grade sub_grade  ... total_bal_il il_util  \\\n",
       "0     10.65       162.87     B        B2  ...          NaN     NaN   \n",
       "1     15.27        59.83     C        C4  ...          NaN     NaN   \n",
       "\n",
       "  open_rv_12m  open_rv_24m max_bal_bc all_util total_rev_hi_lim inq_fi  \\\n",
       "0         NaN          NaN        NaN      NaN              NaN    NaN   \n",
       "1         NaN          NaN        NaN      NaN              NaN    NaN   \n",
       "\n",
       "  total_cu_tl inq_last_12m  \n",
       "0         NaN          NaN  \n",
       "1         NaN          NaN  \n",
       "\n",
       "[2 rows x 74 columns]"
      ]
     },
     "execution_count": 4,
     "metadata": {},
     "output_type": "execute_result"
    }
   ],
   "source": [
    "loan_data_df.head(2)"
   ]
  },
  {
   "cell_type": "markdown",
   "id": "7a44f412",
   "metadata": {
    "papermill": {
     "duration": 0.015055,
     "end_time": "2023-08-25T08:35:02.832339",
     "exception": false,
     "start_time": "2023-08-25T08:35:02.817284",
     "status": "completed"
    },
    "tags": []
   },
   "source": [
    "## Initial Analysis"
   ]
  },
  {
   "cell_type": "code",
   "execution_count": 5,
   "id": "320d3b08",
   "metadata": {
    "execution": {
     "iopub.execute_input": "2023-08-25T08:35:02.865729Z",
     "iopub.status.busy": "2023-08-25T08:35:02.864296Z",
     "iopub.status.idle": "2023-08-25T08:35:08.347950Z",
     "shell.execute_reply": "2023-08-25T08:35:08.347023Z"
    },
    "papermill": {
     "duration": 5.503197,
     "end_time": "2023-08-25T08:35:08.351047",
     "exception": false,
     "start_time": "2023-08-25T08:35:02.847850",
     "status": "completed"
    },
    "tags": []
   },
   "outputs": [
    {
     "name": "stdout",
     "output_type": "stream",
     "text": [
      "<class 'pandas.core.frame.DataFrame'>\n",
      "RangeIndex: 887379 entries, 0 to 887378\n",
      "Data columns (total 74 columns):\n",
      " #   Column                       Non-Null Count   Dtype  \n",
      "---  ------                       --------------   -----  \n",
      " 0   id                           887379 non-null  int64  \n",
      " 1   member_id                    887379 non-null  int64  \n",
      " 2   loan_amnt                    887379 non-null  float64\n",
      " 3   funded_amnt                  887379 non-null  float64\n",
      " 4   funded_amnt_inv              887379 non-null  float64\n",
      " 5   term                         887379 non-null  object \n",
      " 6   int_rate                     887379 non-null  float64\n",
      " 7   installment                  887379 non-null  float64\n",
      " 8   grade                        887379 non-null  object \n",
      " 9   sub_grade                    887379 non-null  object \n",
      " 10  emp_title                    835917 non-null  object \n",
      " 11  emp_length                   842554 non-null  object \n",
      " 12  home_ownership               887379 non-null  object \n",
      " 13  annual_inc                   887375 non-null  float64\n",
      " 14  verification_status          887379 non-null  object \n",
      " 15  issue_d                      887379 non-null  object \n",
      " 16  loan_status                  887379 non-null  object \n",
      " 17  pymnt_plan                   887379 non-null  object \n",
      " 18  url                          887379 non-null  object \n",
      " 19  desc                         126028 non-null  object \n",
      " 20  purpose                      887379 non-null  object \n",
      " 21  title                        887227 non-null  object \n",
      " 22  zip_code                     887379 non-null  object \n",
      " 23  addr_state                   887379 non-null  object \n",
      " 24  dti                          887379 non-null  float64\n",
      " 25  delinq_2yrs                  887350 non-null  float64\n",
      " 26  earliest_cr_line             887350 non-null  object \n",
      " 27  inq_last_6mths               887350 non-null  float64\n",
      " 28  mths_since_last_delinq       433067 non-null  float64\n",
      " 29  mths_since_last_record       137053 non-null  float64\n",
      " 30  open_acc                     887350 non-null  float64\n",
      " 31  pub_rec                      887350 non-null  float64\n",
      " 32  revol_bal                    887379 non-null  float64\n",
      " 33  revol_util                   886877 non-null  float64\n",
      " 34  total_acc                    887350 non-null  float64\n",
      " 35  initial_list_status          887379 non-null  object \n",
      " 36  out_prncp                    887379 non-null  float64\n",
      " 37  out_prncp_inv                887379 non-null  float64\n",
      " 38  total_pymnt                  887379 non-null  float64\n",
      " 39  total_pymnt_inv              887379 non-null  float64\n",
      " 40  total_rec_prncp              887379 non-null  float64\n",
      " 41  total_rec_int                887379 non-null  float64\n",
      " 42  total_rec_late_fee           887379 non-null  float64\n",
      " 43  recoveries                   887379 non-null  float64\n",
      " 44  collection_recovery_fee      887379 non-null  float64\n",
      " 45  last_pymnt_d                 869720 non-null  object \n",
      " 46  last_pymnt_amnt              887379 non-null  float64\n",
      " 47  next_pymnt_d                 634408 non-null  object \n",
      " 48  last_credit_pull_d           887326 non-null  object \n",
      " 49  collections_12_mths_ex_med   887234 non-null  float64\n",
      " 50  mths_since_last_major_derog  221703 non-null  float64\n",
      " 51  policy_code                  887379 non-null  float64\n",
      " 52  application_type             887379 non-null  object \n",
      " 53  annual_inc_joint             511 non-null     float64\n",
      " 54  dti_joint                    509 non-null     float64\n",
      " 55  verification_status_joint    511 non-null     object \n",
      " 56  acc_now_delinq               887350 non-null  float64\n",
      " 57  tot_coll_amt                 817103 non-null  float64\n",
      " 58  tot_cur_bal                  817103 non-null  float64\n",
      " 59  open_acc_6m                  21372 non-null   float64\n",
      " 60  open_il_6m                   21372 non-null   float64\n",
      " 61  open_il_12m                  21372 non-null   float64\n",
      " 62  open_il_24m                  21372 non-null   float64\n",
      " 63  mths_since_rcnt_il           20810 non-null   float64\n",
      " 64  total_bal_il                 21372 non-null   float64\n",
      " 65  il_util                      18617 non-null   float64\n",
      " 66  open_rv_12m                  21372 non-null   float64\n",
      " 67  open_rv_24m                  21372 non-null   float64\n",
      " 68  max_bal_bc                   21372 non-null   float64\n",
      " 69  all_util                     21372 non-null   float64\n",
      " 70  total_rev_hi_lim             817103 non-null  float64\n",
      " 71  inq_fi                       21372 non-null   float64\n",
      " 72  total_cu_tl                  21372 non-null   float64\n",
      " 73  inq_last_12m                 21372 non-null   float64\n",
      "dtypes: float64(49), int64(2), object(23)\n",
      "memory usage: 501.0+ MB\n"
     ]
    }
   ],
   "source": [
    "loan_data_df.info()"
   ]
  },
  {
   "cell_type": "code",
   "execution_count": 6,
   "id": "a4486d33",
   "metadata": {
    "execution": {
     "iopub.execute_input": "2023-08-25T08:35:08.384726Z",
     "iopub.status.busy": "2023-08-25T08:35:08.384411Z",
     "iopub.status.idle": "2023-08-25T08:35:08.485023Z",
     "shell.execute_reply": "2023-08-25T08:35:08.483924Z"
    },
    "papermill": {
     "duration": 0.120488,
     "end_time": "2023-08-25T08:35:08.487803",
     "exception": false,
     "start_time": "2023-08-25T08:35:08.367315",
     "status": "completed"
    },
    "tags": []
   },
   "outputs": [
    {
     "data": {
      "text/html": [
       "<div>\n",
       "<style scoped>\n",
       "    .dataframe tbody tr th:only-of-type {\n",
       "        vertical-align: middle;\n",
       "    }\n",
       "\n",
       "    .dataframe tbody tr th {\n",
       "        vertical-align: top;\n",
       "    }\n",
       "\n",
       "    .dataframe thead th {\n",
       "        text-align: right;\n",
       "    }\n",
       "</style>\n",
       "<table border=\"1\" class=\"dataframe\">\n",
       "  <thead>\n",
       "    <tr style=\"text-align: right;\">\n",
       "      <th></th>\n",
       "      <th>id</th>\n",
       "      <th>max_bal_bc</th>\n",
       "      <th>revol_bal</th>\n",
       "    </tr>\n",
       "    <tr>\n",
       "      <th>loan_status</th>\n",
       "      <th></th>\n",
       "      <th></th>\n",
       "      <th></th>\n",
       "    </tr>\n",
       "  </thead>\n",
       "  <tbody>\n",
       "    <tr>\n",
       "      <th>Charged Off</th>\n",
       "      <td>45248</td>\n",
       "      <td>0</td>\n",
       "      <td>14973.193799</td>\n",
       "    </tr>\n",
       "    <tr>\n",
       "      <th>Current</th>\n",
       "      <td>601779</td>\n",
       "      <td>13144</td>\n",
       "      <td>17645.608458</td>\n",
       "    </tr>\n",
       "    <tr>\n",
       "      <th>Default</th>\n",
       "      <td>1219</td>\n",
       "      <td>0</td>\n",
       "      <td>15645.794094</td>\n",
       "    </tr>\n",
       "    <tr>\n",
       "      <th>Does not meet the credit policy. Status:Charged Off</th>\n",
       "      <td>761</td>\n",
       "      <td>0</td>\n",
       "      <td>27413.918528</td>\n",
       "    </tr>\n",
       "    <tr>\n",
       "      <th>Does not meet the credit policy. Status:Fully Paid</th>\n",
       "      <td>1988</td>\n",
       "      <td>0</td>\n",
       "      <td>27406.463783</td>\n",
       "    </tr>\n",
       "    <tr>\n",
       "      <th>Fully Paid</th>\n",
       "      <td>207723</td>\n",
       "      <td>144</td>\n",
       "      <td>15210.405063</td>\n",
       "    </tr>\n",
       "    <tr>\n",
       "      <th>In Grace Period</th>\n",
       "      <td>6253</td>\n",
       "      <td>82</td>\n",
       "      <td>15812.653606</td>\n",
       "    </tr>\n",
       "    <tr>\n",
       "      <th>Issued</th>\n",
       "      <td>8460</td>\n",
       "      <td>8002</td>\n",
       "      <td>17790.268794</td>\n",
       "    </tr>\n",
       "    <tr>\n",
       "      <th>Late (16-30 days)</th>\n",
       "      <td>2357</td>\n",
       "      <td>0</td>\n",
       "      <td>15526.551973</td>\n",
       "    </tr>\n",
       "    <tr>\n",
       "      <th>Late (31-120 days)</th>\n",
       "      <td>11591</td>\n",
       "      <td>0</td>\n",
       "      <td>15437.867225</td>\n",
       "    </tr>\n",
       "  </tbody>\n",
       "</table>\n",
       "</div>"
      ],
      "text/plain": [
       "                                                        id  max_bal_bc  \\\n",
       "loan_status                                                              \n",
       "Charged Off                                          45248           0   \n",
       "Current                                             601779       13144   \n",
       "Default                                               1219           0   \n",
       "Does not meet the credit policy. Status:Charged...     761           0   \n",
       "Does not meet the credit policy. Status:Fully Paid    1988           0   \n",
       "Fully Paid                                          207723         144   \n",
       "In Grace Period                                       6253          82   \n",
       "Issued                                                8460        8002   \n",
       "Late (16-30 days)                                     2357           0   \n",
       "Late (31-120 days)                                   11591           0   \n",
       "\n",
       "                                                       revol_bal  \n",
       "loan_status                                                       \n",
       "Charged Off                                         14973.193799  \n",
       "Current                                             17645.608458  \n",
       "Default                                             15645.794094  \n",
       "Does not meet the credit policy. Status:Charged...  27413.918528  \n",
       "Does not meet the credit policy. Status:Fully Paid  27406.463783  \n",
       "Fully Paid                                          15210.405063  \n",
       "In Grace Period                                     15812.653606  \n",
       "Issued                                              17790.268794  \n",
       "Late (16-30 days)                                   15526.551973  \n",
       "Late (31-120 days)                                  15437.867225  "
      ]
     },
     "execution_count": 6,
     "metadata": {},
     "output_type": "execute_result"
    }
   ],
   "source": [
    "loan_data_df.groupby('loan_status').agg({'id':'count','max_bal_bc':'count', 'revol_bal':'mean'})"
   ]
  },
  {
   "cell_type": "code",
   "execution_count": 7,
   "id": "d0e88e72",
   "metadata": {
    "execution": {
     "iopub.execute_input": "2023-08-25T08:35:08.521183Z",
     "iopub.status.busy": "2023-08-25T08:35:08.520905Z",
     "iopub.status.idle": "2023-08-25T08:35:08.524965Z",
     "shell.execute_reply": "2023-08-25T08:35:08.524071Z"
    },
    "papermill": {
     "duration": 0.02296,
     "end_time": "2023-08-25T08:35:08.526889",
     "exception": false,
     "start_time": "2023-08-25T08:35:08.503929",
     "status": "completed"
    },
    "tags": []
   },
   "outputs": [],
   "source": [
    "# Target Label\n",
    "loan_sts =  loan_data_df['loan_status']"
   ]
  },
  {
   "cell_type": "code",
   "execution_count": 8,
   "id": "0b3184de",
   "metadata": {
    "execution": {
     "iopub.execute_input": "2023-08-25T08:35:08.561107Z",
     "iopub.status.busy": "2023-08-25T08:35:08.560314Z",
     "iopub.status.idle": "2023-08-25T08:35:09.095997Z",
     "shell.execute_reply": "2023-08-25T08:35:09.095061Z"
    },
    "papermill": {
     "duration": 0.554809,
     "end_time": "2023-08-25T08:35:09.098119",
     "exception": false,
     "start_time": "2023-08-25T08:35:08.543310",
     "status": "completed"
    },
    "tags": []
   },
   "outputs": [
    {
     "data": {
      "image/png": "[encoded data removed]",
      "text/plain": [
       "<Figure size 640x480 with 1 Axes>"
      ]
     },
     "metadata": {},
     "output_type": "display_data"
    }
   ],
   "source": [
    "# Checking what kind of values does the Loan Status have\n",
    "plt.barh(loan_sts.value_counts().index, loan_sts.value_counts())\n",
    "plt.show()"
   ]
  },
  {
   "cell_type": "markdown",
   "id": "7c3210a8",
   "metadata": {
    "papermill": {
     "duration": 0.018672,
     "end_time": "2023-08-25T08:35:09.133207",
     "exception": false,
     "start_time": "2023-08-25T08:35:09.114535",
     "status": "completed"
    },
    "tags": []
   },
   "source": [
    "#### Loan Status\n",
    "Before Getting into feature engineering lets understand about the loan status. I have created 4 different categories for given statuses.\n",
    "\n",
    "1. Issued (Category 0)\n",
    "- Recently issued a fresh loan to borrower\n",
    "2. Current, Fully Paid, Does not meet the credit policy. Status:Fully Paid (Category 1)\n",
    "- Current - All outstanding payments are paid up to date\n",
    "- Fully Paid - All outstanding payments are paid up and loan is finished\n",
    "3. In Grace Period, Late (16-30 days), Late (31-120 days) (Category 2)\n",
    "- In Grace Period - 1-15 days passed after the due date\n",
    "- Late (16-30 days) - 16-30 days passed after the due date\n",
    "- Late (31-120 days) - 31-120 days passed after the due date\n",
    "4. Charged Off , Does not meet the credit policy. Status:Charged Off, Default (Category 3)\n",
    "- Default - The borrower is not able to make outstanding payments for an extended period of time\n",
    "- Charged Off - A charge-off usually occurs when the creditor has deemed an outstanding debt is uncollectible"
   ]
  },
  {
   "cell_type": "code",
   "execution_count": 9,
   "id": "e5ffac15",
   "metadata": {
    "execution": {
     "iopub.execute_input": "2023-08-25T08:35:09.167429Z",
     "iopub.status.busy": "2023-08-25T08:35:09.167109Z",
     "iopub.status.idle": "2023-08-25T08:35:09.820559Z",
     "shell.execute_reply": "2023-08-25T08:35:09.819536Z"
    },
    "papermill": {
     "duration": 0.673357,
     "end_time": "2023-08-25T08:35:09.823039",
     "exception": false,
     "start_time": "2023-08-25T08:35:09.149682",
     "status": "completed"
    },
    "tags": []
   },
   "outputs": [],
   "source": [
    "# Removing entries where loan does not meet credit policy\n",
    "# They are avery small proportion and could cause ambiguity in prediction model\n",
    "loan_data_policy_df = loan_data_df[(loan_data_df['loan_status'] != 'Does not meet the credit policy. Status:Fully Paid') &\\\n",
    "  (loan_data_df['loan_status'] != 'Does not meet the credit policy. Status:Charged Off')]"
   ]
  },
  {
   "cell_type": "markdown",
   "id": "84f6c544",
   "metadata": {
    "papermill": {
     "duration": 0.016504,
     "end_time": "2023-08-25T08:35:09.857012",
     "exception": false,
     "start_time": "2023-08-25T08:35:09.840508",
     "status": "completed"
    },
    "tags": []
   },
   "source": [
    "> For the bank,Late 31-120, Default, Charged off are BAD LOANS - (Label 1)\n",
    "> Unit Late 16-30 days, the loan can be assumed a GOOD LOAN - (Label 0)"
   ]
  },
  {
   "cell_type": "code",
   "execution_count": 10,
   "id": "18cc4e65",
   "metadata": {
    "execution": {
     "iopub.execute_input": "2023-08-25T08:35:09.891860Z",
     "iopub.status.busy": "2023-08-25T08:35:09.891031Z",
     "iopub.status.idle": "2023-08-25T08:35:09.896755Z",
     "shell.execute_reply": "2023-08-25T08:35:09.895686Z"
    },
    "papermill": {
     "duration": 0.025525,
     "end_time": "2023-08-25T08:35:09.898811",
     "exception": false,
     "start_time": "2023-08-25T08:35:09.873286",
     "status": "completed"
    },
    "tags": []
   },
   "outputs": [],
   "source": [
    "# Making a custom encoder dictionary for loan status based on risk level\n",
    "loan_risk_dict = { \n",
    "                    'Issued': -2,\n",
    "                    'Current': -1,\n",
    "                    'Fully Paid': 0,\n",
    "                    'In Grace Period': 0,\n",
    "                    'Late (16-30 days)': 0,\n",
    "                    'Late (31-120 days)': 1,\n",
    "                    'Default': 1,\n",
    "                    'Charged Off': 1      \n",
    "       }"
   ]
  },
  {
   "cell_type": "code",
   "execution_count": 11,
   "id": "3bc3a8ab",
   "metadata": {
    "execution": {
     "iopub.execute_input": "2023-08-25T08:35:09.932644Z",
     "iopub.status.busy": "2023-08-25T08:35:09.932351Z",
     "iopub.status.idle": "2023-08-25T08:35:10.445516Z",
     "shell.execute_reply": "2023-08-25T08:35:10.444294Z"
    },
    "papermill": {
     "duration": 0.532492,
     "end_time": "2023-08-25T08:35:10.447710",
     "exception": false,
     "start_time": "2023-08-25T08:35:09.915218",
     "status": "completed"
    },
    "tags": []
   },
   "outputs": [
    {
     "name": "stderr",
     "output_type": "stream",
     "text": [
      "/tmp/ipykernel_23/2653396265.py:2: SettingWithCopyWarning: \n",
      "A value is trying to be set on a copy of a slice from a DataFrame.\n",
      "Try using .loc[row_indexer,col_indexer] = value instead\n",
      "\n",
      "See the caveats in the documentation: https://pandas.pydata.org/pandas-docs/stable/user_guide/indexing.html#returning-a-view-versus-a-copy\n",
      "  loan_data_policy_df['loan_risk_sts'] = loan_data_policy_df['loan_status'].apply(lambda s: loan_risk_dict[s])\n"
     ]
    }
   ],
   "source": [
    "# Encoding the output labels\n",
    "loan_data_policy_df['loan_risk_sts'] = loan_data_policy_df['loan_status'].apply(lambda s: loan_risk_dict[s])"
   ]
  },
  {
   "cell_type": "code",
   "execution_count": 12,
   "id": "cda89d4d",
   "metadata": {
    "execution": {
     "iopub.execute_input": "2023-08-25T08:35:10.483255Z",
     "iopub.status.busy": "2023-08-25T08:35:10.482960Z",
     "iopub.status.idle": "2023-08-25T08:35:10.682436Z",
     "shell.execute_reply": "2023-08-25T08:35:10.681463Z"
    },
    "papermill": {
     "duration": 0.220094,
     "end_time": "2023-08-25T08:35:10.685450",
     "exception": false,
     "start_time": "2023-08-25T08:35:10.465356",
     "status": "completed"
    },
    "tags": []
   },
   "outputs": [],
   "source": [
    "# List of variables whose data is available before loan application\n",
    "pre_loan_columns = \\\n",
    "['acc_now_delinq',\n",
    " 'addr_state',\n",
    " 'all_util',\n",
    " 'annual_inc',\n",
    " 'annual_inc_joint',\n",
    " 'application_type',\n",
    " 'delinq_2yrs',\n",
    " 'desc',\n",
    " 'dti',\n",
    " 'dti_joint',\n",
    " 'earliest_cr_line',\n",
    " 'emp_length',\n",
    " 'emp_title',\n",
    " 'funded_amnt',\n",
    " 'funded_amnt_inv',\n",
    " 'grade',\n",
    " 'home_ownership',\n",
    " 'il_util',\n",
    " 'initial_list_status',\n",
    " 'inq_fi',\n",
    " 'inq_last_12m',\n",
    " 'inq_last_6mths',\n",
    " 'installment',\n",
    " 'int_rate',\n",
    " 'loan_amnt',\n",
    " 'mths_since_last_delinq',\n",
    " 'mths_since_last_major_derog',\n",
    " 'mths_since_last_record',\n",
    " 'mths_since_rcnt_il',\n",
    " 'open_acc',\n",
    " 'open_acc_6m',\n",
    " 'open_il_12m',\n",
    " 'open_il_24m',\n",
    " 'open_il_6m',\n",
    " 'open_rv_12m',\n",
    " 'open_rv_24m',\n",
    " 'policy_code',\n",
    " 'pub_rec',\n",
    " 'purpose',\n",
    " 'pymnt_plan',\n",
    " 'revol_bal',\n",
    " 'revol_util',\n",
    " 'sub_grade',\n",
    " 'term',\n",
    " 'tot_coll_amt',\n",
    " 'tot_cur_bal',\n",
    " 'total_acc',\n",
    " 'total_bal_il',\n",
    " 'total_cu_tl',\n",
    " 'total_rev_hi_lim',\n",
    " 'verification_status',\n",
    " 'verification_status_joint',\n",
    " 'zip_code',\n",
    " 'loan_risk_sts']\n",
    "\n",
    "pre_loan_df = loan_data_policy_df[pre_loan_columns]"
   ]
  },
  {
   "cell_type": "code",
   "execution_count": 13,
   "id": "919f7b8c",
   "metadata": {
    "execution": {
     "iopub.execute_input": "2023-08-25T08:35:10.721444Z",
     "iopub.status.busy": "2023-08-25T08:35:10.721133Z",
     "iopub.status.idle": "2023-08-25T08:35:10.949757Z",
     "shell.execute_reply": "2023-08-25T08:35:10.948532Z"
    },
    "papermill": {
     "duration": 0.249129,
     "end_time": "2023-08-25T08:35:10.952524",
     "exception": false,
     "start_time": "2023-08-25T08:35:10.703395",
     "status": "completed"
    },
    "tags": []
   },
   "outputs": [],
   "source": [
    "# Separating X and y\n",
    "y = pre_loan_df['loan_risk_sts']\n",
    "X = pre_loan_df.drop('loan_risk_sts', axis=1)"
   ]
  },
  {
   "cell_type": "code",
   "execution_count": 14,
   "id": "dbe0e9b3",
   "metadata": {
    "execution": {
     "iopub.execute_input": "2023-08-25T08:35:10.988162Z",
     "iopub.status.busy": "2023-08-25T08:35:10.987343Z",
     "iopub.status.idle": "2023-08-25T08:35:10.994997Z",
     "shell.execute_reply": "2023-08-25T08:35:10.993834Z"
    },
    "papermill": {
     "duration": 0.02737,
     "end_time": "2023-08-25T08:35:10.997143",
     "exception": false,
     "start_time": "2023-08-25T08:35:10.969773",
     "status": "completed"
    },
    "tags": []
   },
   "outputs": [
    {
     "data": {
      "text/plain": [
       "0    0\n",
       "1    1\n",
       "2    0\n",
       "3    0\n",
       "4   -1\n",
       "Name: loan_risk_sts, dtype: int64"
      ]
     },
     "execution_count": 14,
     "metadata": {},
     "output_type": "execute_result"
    }
   ],
   "source": [
    "y[:5]"
   ]
  },
  {
   "cell_type": "markdown",
   "id": "329638cd",
   "metadata": {
    "papermill": {
     "duration": 0.01635,
     "end_time": "2023-08-25T08:35:11.029861",
     "exception": false,
     "start_time": "2023-08-25T08:35:11.013511",
     "status": "completed"
    },
    "tags": []
   },
   "source": [
    "Now, lets work on the predictors."
   ]
  },
  {
   "cell_type": "code",
   "execution_count": 15,
   "id": "225dc240",
   "metadata": {
    "execution": {
     "iopub.execute_input": "2023-08-25T08:35:11.064532Z",
     "iopub.status.busy": "2023-08-25T08:35:11.064239Z",
     "iopub.status.idle": "2023-08-25T08:35:11.069245Z",
     "shell.execute_reply": "2023-08-25T08:35:11.068298Z"
    },
    "papermill": {
     "duration": 0.024629,
     "end_time": "2023-08-25T08:35:11.071216",
     "exception": false,
     "start_time": "2023-08-25T08:35:11.046587",
     "status": "completed"
    },
    "tags": []
   },
   "outputs": [],
   "source": [
    "# Checking for non-numeric columns\n",
    "object_cols = X.dtypes[X.dtypes == \"object\"].index"
   ]
  },
  {
   "cell_type": "code",
   "execution_count": 16,
   "id": "2b166bbd",
   "metadata": {
    "execution": {
     "iopub.execute_input": "2023-08-25T08:35:11.105505Z",
     "iopub.status.busy": "2023-08-25T08:35:11.105237Z",
     "iopub.status.idle": "2023-08-25T08:35:11.111028Z",
     "shell.execute_reply": "2023-08-25T08:35:11.110150Z"
    },
    "papermill": {
     "duration": 0.025185,
     "end_time": "2023-08-25T08:35:11.113025",
     "exception": false,
     "start_time": "2023-08-25T08:35:11.087840",
     "status": "completed"
    },
    "tags": []
   },
   "outputs": [
    {
     "data": {
      "text/plain": [
       "Index(['addr_state', 'application_type', 'desc', 'earliest_cr_line',\n",
       "       'emp_length', 'emp_title', 'grade', 'home_ownership',\n",
       "       'initial_list_status', 'purpose', 'pymnt_plan', 'sub_grade', 'term',\n",
       "       'verification_status', 'verification_status_joint', 'zip_code'],\n",
       "      dtype='object')"
      ]
     },
     "execution_count": 16,
     "metadata": {},
     "output_type": "execute_result"
    }
   ],
   "source": [
    "object_cols"
   ]
  },
  {
   "cell_type": "code",
   "execution_count": 17,
   "id": "554a7d75",
   "metadata": {
    "execution": {
     "iopub.execute_input": "2023-08-25T08:35:11.147995Z",
     "iopub.status.busy": "2023-08-25T08:35:11.147260Z",
     "iopub.status.idle": "2023-08-25T08:35:19.476493Z",
     "shell.execute_reply": "2023-08-25T08:35:19.475591Z"
    },
    "papermill": {
     "duration": 8.348767,
     "end_time": "2023-08-25T08:35:19.478552",
     "exception": false,
     "start_time": "2023-08-25T08:35:11.129785",
     "status": "completed"
    },
    "tags": []
   },
   "outputs": [
    {
     "data": {
      "image/png": "[encoded data removed]",
      "text/plain": [
       "<Figure size 640x480 with 1 Axes>"
      ]
     },
     "metadata": {},
     "output_type": "display_data"
    }
   ],
   "source": [
    "# Checking frequency count for non \n",
    "plt.barh(X[object_cols].count().index, X[object_cols].count())\n",
    "plt.show()"
   ]
  },
  {
   "cell_type": "markdown",
   "id": "5ebba54e",
   "metadata": {
    "papermill": {
     "duration": 0.017104,
     "end_time": "2023-08-25T08:35:19.513032",
     "exception": false,
     "start_time": "2023-08-25T08:35:19.495928",
     "status": "completed"
    },
    "tags": []
   },
   "source": [
    "Concerning columns: \n",
    "- verification_status_joint, desc, emp_length, emp_title"
   ]
  },
  {
   "cell_type": "code",
   "execution_count": 18,
   "id": "7773ec4f",
   "metadata": {
    "execution": {
     "iopub.execute_input": "2023-08-25T08:35:19.548911Z",
     "iopub.status.busy": "2023-08-25T08:35:19.548112Z",
     "iopub.status.idle": "2023-08-25T08:35:19.812292Z",
     "shell.execute_reply": "2023-08-25T08:35:19.811266Z"
    },
    "papermill": {
     "duration": 0.284791,
     "end_time": "2023-08-25T08:35:19.814846",
     "exception": false,
     "start_time": "2023-08-25T08:35:19.530055",
     "status": "completed"
    },
    "tags": []
   },
   "outputs": [],
   "source": [
    "# We can drop description \n",
    "# as we do not have any sophisticated way of using it in out model.\n",
    "X = X.drop('desc', axis=1)"
   ]
  },
  {
   "cell_type": "code",
   "execution_count": 19,
   "id": "3f7fd4f6",
   "metadata": {
    "execution": {
     "iopub.execute_input": "2023-08-25T08:35:19.853483Z",
     "iopub.status.busy": "2023-08-25T08:35:19.851691Z",
     "iopub.status.idle": "2023-08-25T08:35:19.985703Z",
     "shell.execute_reply": "2023-08-25T08:35:19.984683Z"
    },
    "papermill": {
     "duration": 0.15492,
     "end_time": "2023-08-25T08:35:19.987821",
     "exception": false,
     "start_time": "2023-08-25T08:35:19.832901",
     "status": "completed"
    },
    "tags": []
   },
   "outputs": [
    {
     "data": {
      "text/plain": [
       "INDIVIDUAL    884119\n",
       "JOINT            511\n",
       "Name: application_type, dtype: int64"
      ]
     },
     "execution_count": 19,
     "metadata": {},
     "output_type": "execute_result"
    }
   ],
   "source": [
    "# Checking the application type\n",
    "X['application_type'].value_counts()"
   ]
  },
  {
   "cell_type": "markdown",
   "id": "b3d3d91d",
   "metadata": {
    "papermill": {
     "duration": 0.017043,
     "end_time": "2023-08-25T08:35:20.022191",
     "exception": false,
     "start_time": "2023-08-25T08:35:20.005148",
     "status": "completed"
    },
    "tags": []
   },
   "source": [
    "#### Dealing separately with Joint accounts"
   ]
  },
  {
   "cell_type": "code",
   "execution_count": 20,
   "id": "693485d1",
   "metadata": {
    "execution": {
     "iopub.execute_input": "2023-08-25T08:35:20.057995Z",
     "iopub.status.busy": "2023-08-25T08:35:20.057705Z",
     "iopub.status.idle": "2023-08-25T08:35:20.208484Z",
     "shell.execute_reply": "2023-08-25T08:35:20.207580Z"
    },
    "papermill": {
     "duration": 0.171161,
     "end_time": "2023-08-25T08:35:20.210655",
     "exception": false,
     "start_time": "2023-08-25T08:35:20.039494",
     "status": "completed"
    },
    "tags": []
   },
   "outputs": [
    {
     "data": {
      "text/plain": [
       "-1    441\n",
       "-2     64\n",
       " 0      4\n",
       " 1      2\n",
       "Name: loan_risk_sts, dtype: int64"
      ]
     },
     "execution_count": 20,
     "metadata": {},
     "output_type": "execute_result"
    }
   ],
   "source": [
    "# Lets see how the counts\n",
    "y[X[X['application_type'] == 'JOINT'].index].value_counts()"
   ]
  },
  {
   "cell_type": "code",
   "execution_count": 21,
   "id": "cbbb3470",
   "metadata": {
    "execution": {
     "iopub.execute_input": "2023-08-25T08:35:20.247096Z",
     "iopub.status.busy": "2023-08-25T08:35:20.246302Z",
     "iopub.status.idle": "2023-08-25T08:35:20.731568Z",
     "shell.execute_reply": "2023-08-25T08:35:20.730616Z"
    },
    "papermill": {
     "duration": 0.505619,
     "end_time": "2023-08-25T08:35:20.733676",
     "exception": false,
     "start_time": "2023-08-25T08:35:20.228057",
     "status": "completed"
    },
    "tags": []
   },
   "outputs": [
    {
     "data": {
      "text/plain": [
       "-1    601338\n",
       " 0    216329\n",
       " 1     58056\n",
       "-2      8396\n",
       "Name: loan_risk_sts, dtype: int64"
      ]
     },
     "execution_count": 21,
     "metadata": {},
     "output_type": "execute_result"
    }
   ],
   "source": [
    "y[X[X['application_type'] != 'JOINT'].index].value_counts()"
   ]
  },
  {
   "cell_type": "markdown",
   "id": "4aff3a58",
   "metadata": {
    "papermill": {
     "duration": 0.017974,
     "end_time": "2023-08-25T08:35:20.769335",
     "exception": false,
     "start_time": "2023-08-25T08:35:20.751361",
     "status": "completed"
    },
    "tags": []
   },
   "source": [
    "It appears that the Joint loans are less likely to default."
   ]
  },
  {
   "cell_type": "code",
   "execution_count": 22,
   "id": "d1075af9",
   "metadata": {
    "execution": {
     "iopub.execute_input": "2023-08-25T08:35:20.806320Z",
     "iopub.status.busy": "2023-08-25T08:35:20.805727Z",
     "iopub.status.idle": "2023-08-25T08:35:37.246299Z",
     "shell.execute_reply": "2023-08-25T08:35:37.245331Z"
    },
    "papermill": {
     "duration": 16.462033,
     "end_time": "2023-08-25T08:35:37.248726",
     "exception": false,
     "start_time": "2023-08-25T08:35:20.786693",
     "status": "completed"
    },
    "tags": []
   },
   "outputs": [],
   "source": [
    "# For simplicity sake, let's combine dti and dti_joint as min()\n",
    "X['dti_calc'] = X.apply(lambda r: min(r['dti'],r['dti_joint']), axis=1)"
   ]
  },
  {
   "cell_type": "code",
   "execution_count": 23,
   "id": "c3693577",
   "metadata": {
    "execution": {
     "iopub.execute_input": "2023-08-25T08:35:37.285707Z",
     "iopub.status.busy": "2023-08-25T08:35:37.285392Z",
     "iopub.status.idle": "2023-08-25T08:35:37.545652Z",
     "shell.execute_reply": "2023-08-25T08:35:37.544663Z"
    },
    "papermill": {
     "duration": 0.281587,
     "end_time": "2023-08-25T08:35:37.548197",
     "exception": false,
     "start_time": "2023-08-25T08:35:37.266610",
     "status": "completed"
    },
    "tags": []
   },
   "outputs": [],
   "source": [
    "# Dropping the dti columns\n",
    "X = X.drop(['dti','dti_joint'], axis=1)"
   ]
  },
  {
   "cell_type": "code",
   "execution_count": 24,
   "id": "c2175b2f",
   "metadata": {
    "execution": {
     "iopub.execute_input": "2023-08-25T08:35:37.587549Z",
     "iopub.status.busy": "2023-08-25T08:35:37.587219Z",
     "iopub.status.idle": "2023-08-25T08:35:55.093262Z",
     "shell.execute_reply": "2023-08-25T08:35:55.092257Z"
    },
    "papermill": {
     "duration": 17.527552,
     "end_time": "2023-08-25T08:35:55.095795",
     "exception": false,
     "start_time": "2023-08-25T08:35:37.568243",
     "status": "completed"
    },
    "tags": []
   },
   "outputs": [],
   "source": [
    "# Encoding verification status:\n",
    "def ver_encoder(row):\n",
    "    ver_status_dict = {\n",
    "        'Verified': 1, \n",
    "        'Source Verified': 1, \n",
    "        'Not Verified': 0,\n",
    "        }\n",
    "    v_ind = ver_status_dict[row['verification_status']]\n",
    "    if pd.isna(row['verification_status_joint']):\n",
    "        v_joint = 0\n",
    "    else:\n",
    "        v_joint = ver_status_dict[row['verification_status_joint']]\n",
    "    return max(v_ind, v_joint)\n",
    "    \n",
    "X['is_verified'] = X.apply(lambda row: ver_encoder(row), axis=1)"
   ]
  },
  {
   "cell_type": "code",
   "execution_count": 25,
   "id": "939d02a2",
   "metadata": {
    "execution": {
     "iopub.execute_input": "2023-08-25T08:35:55.133955Z",
     "iopub.status.busy": "2023-08-25T08:35:55.133534Z",
     "iopub.status.idle": "2023-08-25T08:35:55.346057Z",
     "shell.execute_reply": "2023-08-25T08:35:55.345047Z"
    },
    "papermill": {
     "duration": 0.234224,
     "end_time": "2023-08-25T08:35:55.348586",
     "exception": false,
     "start_time": "2023-08-25T08:35:55.114362",
     "status": "completed"
    },
    "tags": []
   },
   "outputs": [],
   "source": [
    "# Dropping the verification columns\n",
    "X = X.drop(['verification_status','verification_status_joint'], axis=1)"
   ]
  },
  {
   "cell_type": "code",
   "execution_count": 26,
   "id": "c203615e",
   "metadata": {
    "execution": {
     "iopub.execute_input": "2023-08-25T08:35:55.385203Z",
     "iopub.status.busy": "2023-08-25T08:35:55.384914Z",
     "iopub.status.idle": "2023-08-25T08:36:11.750478Z",
     "shell.execute_reply": "2023-08-25T08:36:11.749445Z"
    },
    "papermill": {
     "duration": 16.387111,
     "end_time": "2023-08-25T08:36:11.753525",
     "exception": false,
     "start_time": "2023-08-25T08:35:55.366414",
     "status": "completed"
    },
    "tags": []
   },
   "outputs": [],
   "source": [
    "# Using max of joint and indv income as calculated income\n",
    "X['annual_inc_calc'] = X.apply(lambda r: max(r['annual_inc'], r['annual_inc_joint']), axis=1)"
   ]
  },
  {
   "cell_type": "code",
   "execution_count": 27,
   "id": "a23dce6a",
   "metadata": {
    "execution": {
     "iopub.execute_input": "2023-08-25T08:36:11.791327Z",
     "iopub.status.busy": "2023-08-25T08:36:11.790334Z",
     "iopub.status.idle": "2023-08-25T08:36:12.019487Z",
     "shell.execute_reply": "2023-08-25T08:36:12.018439Z"
    },
    "papermill": {
     "duration": 0.250301,
     "end_time": "2023-08-25T08:36:12.022014",
     "exception": false,
     "start_time": "2023-08-25T08:36:11.771713",
     "status": "completed"
    },
    "tags": []
   },
   "outputs": [],
   "source": [
    "# Dropping individual income columns\n",
    "X = X.drop(['annual_inc','annual_inc_joint'], axis=1)"
   ]
  },
  {
   "cell_type": "code",
   "execution_count": 28,
   "id": "c716499e",
   "metadata": {
    "execution": {
     "iopub.execute_input": "2023-08-25T08:36:12.058906Z",
     "iopub.status.busy": "2023-08-25T08:36:12.058563Z",
     "iopub.status.idle": "2023-08-25T08:36:12.065535Z",
     "shell.execute_reply": "2023-08-25T08:36:12.064680Z"
    },
    "papermill": {
     "duration": 0.027379,
     "end_time": "2023-08-25T08:36:12.067460",
     "exception": false,
     "start_time": "2023-08-25T08:36:12.040081",
     "status": "completed"
    },
    "tags": []
   },
   "outputs": [
    {
     "data": {
      "text/plain": [
       "Index(['addr_state', 'application_type', 'earliest_cr_line', 'emp_length',\n",
       "       'emp_title', 'grade', 'home_ownership', 'initial_list_status',\n",
       "       'purpose', 'pymnt_plan', 'sub_grade', 'term', 'zip_code'],\n",
       "      dtype='object')"
      ]
     },
     "execution_count": 28,
     "metadata": {},
     "output_type": "execute_result"
    }
   ],
   "source": [
    "# Checking for non-numeric columns\n",
    "object_cols = X.dtypes[X.dtypes == \"object\"].index\n",
    "object_cols"
   ]
  },
  {
   "cell_type": "code",
   "execution_count": 29,
   "id": "b0ea3263",
   "metadata": {
    "collapsed": true,
    "execution": {
     "iopub.execute_input": "2023-08-25T08:36:12.104398Z",
     "iopub.status.busy": "2023-08-25T08:36:12.103616Z",
     "iopub.status.idle": "2023-08-25T08:36:15.246317Z",
     "shell.execute_reply": "2023-08-25T08:36:15.244365Z"
    },
    "jupyter": {
     "outputs_hidden": true
    },
    "papermill": {
     "duration": 3.163439,
     "end_time": "2023-08-25T08:36:15.248530",
     "exception": false,
     "start_time": "2023-08-25T08:36:12.085091",
     "status": "completed"
    },
    "tags": []
   },
   "outputs": [
    {
     "name": "stdout",
     "output_type": "stream",
     "text": [
      "<class 'pandas.core.frame.DataFrame'>\n",
      "Int64Index: 884630 entries, 0 to 887378\n",
      "Data columns (total 49 columns):\n",
      " #   Column                       Non-Null Count   Dtype  \n",
      "---  ------                       --------------   -----  \n",
      " 0   acc_now_delinq               884630 non-null  float64\n",
      " 1   addr_state                   884630 non-null  object \n",
      " 2   all_util                     21372 non-null   float64\n",
      " 3   application_type             884630 non-null  object \n",
      " 4   delinq_2yrs                  884630 non-null  float64\n",
      " 5   earliest_cr_line             884630 non-null  object \n",
      " 6   emp_length                   839839 non-null  object \n",
      " 7   emp_title                    833327 non-null  object \n",
      " 8   funded_amnt                  884630 non-null  float64\n",
      " 9   funded_amnt_inv              884630 non-null  float64\n",
      " 10  grade                        884630 non-null  object \n",
      " 11  home_ownership               884630 non-null  object \n",
      " 12  il_util                      18617 non-null   float64\n",
      " 13  initial_list_status          884630 non-null  object \n",
      " 14  inq_fi                       21372 non-null   float64\n",
      " 15  inq_last_12m                 21372 non-null   float64\n",
      " 16  inq_last_6mths               884630 non-null  float64\n",
      " 17  installment                  884630 non-null  float64\n",
      " 18  int_rate                     884630 non-null  float64\n",
      " 19  loan_amnt                    884630 non-null  float64\n",
      " 20  mths_since_last_delinq       431517 non-null  float64\n",
      " 21  mths_since_last_major_derog  221703 non-null  float64\n",
      " 22  mths_since_last_record       136193 non-null  float64\n",
      " 23  mths_since_rcnt_il           20810 non-null   float64\n",
      " 24  open_acc                     884630 non-null  float64\n",
      " 25  open_acc_6m                  21372 non-null   float64\n",
      " 26  open_il_12m                  21372 non-null   float64\n",
      " 27  open_il_24m                  21372 non-null   float64\n",
      " 28  open_il_6m                   21372 non-null   float64\n",
      " 29  open_rv_12m                  21372 non-null   float64\n",
      " 30  open_rv_24m                  21372 non-null   float64\n",
      " 31  policy_code                  884630 non-null  float64\n",
      " 32  pub_rec                      884630 non-null  float64\n",
      " 33  purpose                      884630 non-null  object \n",
      " 34  pymnt_plan                   884630 non-null  object \n",
      " 35  revol_bal                    884630 non-null  float64\n",
      " 36  revol_util                   884168 non-null  float64\n",
      " 37  sub_grade                    884630 non-null  object \n",
      " 38  term                         884630 non-null  object \n",
      " 39  tot_coll_amt                 817103 non-null  float64\n",
      " 40  tot_cur_bal                  817103 non-null  float64\n",
      " 41  total_acc                    884630 non-null  float64\n",
      " 42  total_bal_il                 21372 non-null   float64\n",
      " 43  total_cu_tl                  21372 non-null   float64\n",
      " 44  total_rev_hi_lim             817103 non-null  float64\n",
      " 45  zip_code                     884630 non-null  object \n",
      " 46  dti_calc                     884630 non-null  float64\n",
      " 47  is_verified                  884630 non-null  int64  \n",
      " 48  annual_inc_calc              884630 non-null  float64\n",
      "dtypes: float64(35), int64(1), object(13)\n",
      "memory usage: 369.7+ MB\n"
     ]
    }
   ],
   "source": [
    "X.info()"
   ]
  },
  {
   "cell_type": "code",
   "execution_count": 30,
   "id": "e6b2bece",
   "metadata": {
    "execution": {
     "iopub.execute_input": "2023-08-25T08:36:15.285549Z",
     "iopub.status.busy": "2023-08-25T08:36:15.285270Z",
     "iopub.status.idle": "2023-08-25T08:36:15.470678Z",
     "shell.execute_reply": "2023-08-25T08:36:15.469686Z"
    },
    "papermill": {
     "duration": 0.206715,
     "end_time": "2023-08-25T08:36:15.473234",
     "exception": false,
     "start_time": "2023-08-25T08:36:15.266519",
     "status": "completed"
    },
    "tags": []
   },
   "outputs": [],
   "source": [
    "# Filling Null values in ownership as ANY\n",
    "X['home_ownership'] = X['home_ownership'].fillna('ANY')"
   ]
  },
  {
   "cell_type": "code",
   "execution_count": 31,
   "id": "a438daf8",
   "metadata": {
    "execution": {
     "iopub.execute_input": "2023-08-25T08:36:15.511167Z",
     "iopub.status.busy": "2023-08-25T08:36:15.510857Z",
     "iopub.status.idle": "2023-08-25T08:36:16.379420Z",
     "shell.execute_reply": "2023-08-25T08:36:16.378419Z"
    },
    "papermill": {
     "duration": 0.890494,
     "end_time": "2023-08-25T08:36:16.381825",
     "exception": false,
     "start_time": "2023-08-25T08:36:15.491331",
     "status": "completed"
    },
    "tags": []
   },
   "outputs": [],
   "source": [
    "# Getting earliest credit line issue year\n",
    "X['cr_line_yr'] = X['earliest_cr_line'].apply(lambda x: int(x.split('-')[1]))"
   ]
  },
  {
   "cell_type": "code",
   "execution_count": 32,
   "id": "630b16be",
   "metadata": {
    "execution": {
     "iopub.execute_input": "2023-08-25T08:36:16.423999Z",
     "iopub.status.busy": "2023-08-25T08:36:16.423510Z",
     "iopub.status.idle": "2023-08-25T08:36:16.799618Z",
     "shell.execute_reply": "2023-08-25T08:36:16.798509Z"
    },
    "papermill": {
     "duration": 0.402344,
     "end_time": "2023-08-25T08:36:16.802310",
     "exception": false,
     "start_time": "2023-08-25T08:36:16.399966",
     "status": "completed"
    },
    "tags": []
   },
   "outputs": [],
   "source": [
    "# Setting dummy var for term\n",
    "X['term_60'] = pd.get_dummies(X['term'], drop_first=True)\n",
    "X = X.drop('term', axis=1)"
   ]
  },
  {
   "cell_type": "code",
   "execution_count": 33,
   "id": "f5f5c6a0",
   "metadata": {
    "execution": {
     "iopub.execute_input": "2023-08-25T08:36:16.845079Z",
     "iopub.status.busy": "2023-08-25T08:36:16.844769Z",
     "iopub.status.idle": "2023-08-25T08:36:17.030127Z",
     "shell.execute_reply": "2023-08-25T08:36:17.029107Z"
    },
    "papermill": {
     "duration": 0.208689,
     "end_time": "2023-08-25T08:36:17.032530",
     "exception": false,
     "start_time": "2023-08-25T08:36:16.823841",
     "status": "completed"
    },
    "tags": []
   },
   "outputs": [],
   "source": [
    "# Dropping useless columns\n",
    "drop_cols = ['emp_title', 'emp_length','earliest_cr_line', 'zip_code']\n",
    "X = X.drop(drop_cols, axis=1)"
   ]
  },
  {
   "cell_type": "code",
   "execution_count": 34,
   "id": "5f831650",
   "metadata": {
    "execution": {
     "iopub.execute_input": "2023-08-25T08:36:17.070344Z",
     "iopub.status.busy": "2023-08-25T08:36:17.070045Z",
     "iopub.status.idle": "2023-08-25T08:36:18.878698Z",
     "shell.execute_reply": "2023-08-25T08:36:18.877684Z"
    },
    "papermill": {
     "duration": 1.830011,
     "end_time": "2023-08-25T08:36:18.881201",
     "exception": false,
     "start_time": "2023-08-25T08:36:17.051190",
     "status": "completed"
    },
    "tags": []
   },
   "outputs": [],
   "source": [
    "# Encoding categorical Variables\n",
    "categorical_vars = ['addr_state', 'application_type', 'grade', 'home_ownership',\n",
    " 'initial_list_status', 'purpose', 'pymnt_plan', 'sub_grade']\n",
    "X_encoded = pd.get_dummies(X[categorical_vars])\n",
    "X_cont = X.drop(categorical_vars, axis=1)\n",
    "X = pd.concat([X_cont, X_encoded], axis=1)"
   ]
  },
  {
   "cell_type": "markdown",
   "id": "41be1a97",
   "metadata": {
    "papermill": {
     "duration": 0.017532,
     "end_time": "2023-08-25T08:36:18.917146",
     "exception": false,
     "start_time": "2023-08-25T08:36:18.899614",
     "status": "completed"
    },
    "tags": []
   },
   "source": [
    "## Model Selection\n",
    "Let's fit an Xgboost model first to understand feature importance"
   ]
  },
  {
   "cell_type": "markdown",
   "id": "1c0afc60",
   "metadata": {
    "papermill": {
     "duration": 0.017585,
     "end_time": "2023-08-25T08:36:18.952655",
     "exception": false,
     "start_time": "2023-08-25T08:36:18.935070",
     "status": "completed"
    },
    "tags": []
   },
   "source": [
    "#### At this point, let's seperate out New and current loans\n",
    "We will use the model to predict the risk on those."
   ]
  },
  {
   "cell_type": "code",
   "execution_count": 35,
   "id": "3225f482",
   "metadata": {
    "execution": {
     "iopub.execute_input": "2023-08-25T08:36:18.989879Z",
     "iopub.status.busy": "2023-08-25T08:36:18.989555Z",
     "iopub.status.idle": "2023-08-25T08:36:19.439523Z",
     "shell.execute_reply": "2023-08-25T08:36:19.438509Z"
    },
    "papermill": {
     "duration": 0.47162,
     "end_time": "2023-08-25T08:36:19.442137",
     "exception": false,
     "start_time": "2023-08-25T08:36:18.970517",
     "status": "completed"
    },
    "tags": []
   },
   "outputs": [],
   "source": [
    "Xs = X[y >= 0]\n",
    "ys = y[y >= 0]"
   ]
  },
  {
   "cell_type": "code",
   "execution_count": 36,
   "id": "b4e01ca1",
   "metadata": {
    "execution": {
     "iopub.execute_input": "2023-08-25T08:36:19.479433Z",
     "iopub.status.busy": "2023-08-25T08:36:19.479126Z",
     "iopub.status.idle": "2023-08-25T08:36:19.867426Z",
     "shell.execute_reply": "2023-08-25T08:36:19.866422Z"
    },
    "papermill": {
     "duration": 0.409688,
     "end_time": "2023-08-25T08:36:19.870071",
     "exception": false,
     "start_time": "2023-08-25T08:36:19.460383",
     "status": "completed"
    },
    "tags": []
   },
   "outputs": [],
   "source": [
    "x_train, x_test, y_train, y_test = train_test_split(Xs, ys,\n",
    "                                                    train_size=0.6,\n",
    "                                                    random_state=0,\n",
    "                                                    stratify=ys)"
   ]
  },
  {
   "cell_type": "code",
   "execution_count": 37,
   "id": "0c666f6f",
   "metadata": {
    "execution": {
     "iopub.execute_input": "2023-08-25T08:36:19.907656Z",
     "iopub.status.busy": "2023-08-25T08:36:19.907054Z",
     "iopub.status.idle": "2023-08-25T08:42:22.727419Z",
     "shell.execute_reply": "2023-08-25T08:42:22.726598Z"
    },
    "papermill": {
     "duration": 362.841804,
     "end_time": "2023-08-25T08:42:22.730064",
     "exception": false,
     "start_time": "2023-08-25T08:36:19.888260",
     "status": "completed"
    },
    "tags": []
   },
   "outputs": [],
   "source": [
    "xgb = XGBClassifier()\n",
    "cv = StratifiedKFold(n_splits=5)\n",
    "cv_results = cross_validate(xgb, x_train, y_train, cv=cv)"
   ]
  },
  {
   "cell_type": "code",
   "execution_count": 38,
   "id": "a44e9e9f",
   "metadata": {
    "execution": {
     "iopub.execute_input": "2023-08-25T08:42:22.770013Z",
     "iopub.status.busy": "2023-08-25T08:42:22.769071Z",
     "iopub.status.idle": "2023-08-25T08:42:22.775900Z",
     "shell.execute_reply": "2023-08-25T08:42:22.774948Z"
    },
    "papermill": {
     "duration": 0.028618,
     "end_time": "2023-08-25T08:42:22.778596",
     "exception": false,
     "start_time": "2023-08-25T08:42:22.749978",
     "status": "completed"
    },
    "tags": []
   },
   "outputs": [
    {
     "name": "stdout",
     "output_type": "stream",
     "text": [
      "Average accuracy = 78.75 %\n",
      "STD in accuracy = 0.14 %\n"
     ]
    }
   ],
   "source": [
    "# Printing model performance metrics\n",
    "print(f\"\"\"Average accuracy = {round(np.mean(cv_results['test_score'])*100, 2)} %\"\"\")\n",
    "print(f\"\"\"STD in accuracy = {round(np.std(cv_results['test_score'])*100, 2)} %\"\"\")"
   ]
  },
  {
   "cell_type": "code",
   "execution_count": 39,
   "id": "46476254",
   "metadata": {
    "execution": {
     "iopub.execute_input": "2023-08-25T08:42:22.817954Z",
     "iopub.status.busy": "2023-08-25T08:42:22.816422Z",
     "iopub.status.idle": "2023-08-25T08:43:52.550237Z",
     "shell.execute_reply": "2023-08-25T08:43:52.549219Z"
    },
    "papermill": {
     "duration": 89.755114,
     "end_time": "2023-08-25T08:43:52.552886",
     "exception": false,
     "start_time": "2023-08-25T08:42:22.797772",
     "status": "completed"
    },
    "tags": []
   },
   "outputs": [],
   "source": [
    "# Training Model on the training data\n",
    "xgb_classifier = xgb.fit(x_train, y_train)"
   ]
  },
  {
   "cell_type": "code",
   "execution_count": 40,
   "id": "74e23283",
   "metadata": {
    "execution": {
     "iopub.execute_input": "2023-08-25T08:43:52.591237Z",
     "iopub.status.busy": "2023-08-25T08:43:52.590928Z",
     "iopub.status.idle": "2023-08-25T08:43:52.948694Z",
     "shell.execute_reply": "2023-08-25T08:43:52.947523Z"
    },
    "papermill": {
     "duration": 0.379487,
     "end_time": "2023-08-25T08:43:52.950811",
     "exception": false,
     "start_time": "2023-08-25T08:43:52.571324",
     "status": "completed"
    },
    "tags": []
   },
   "outputs": [
    {
     "data": {
      "image/png": "[encoded data removed]",
      "text/plain": [
       "<Figure size 640x480 with 1 Axes>"
      ]
     },
     "metadata": {},
     "output_type": "display_data"
    }
   ],
   "source": [
    "# Plotting the Variable according to their decreasing feature importance in tree\n",
    "top = 25\n",
    "sorted_index = np.array(xgb_classifier.feature_importances_).argsort()\n",
    "x_ax = x_train.columns[sorted_index[-top:]]\n",
    "y_ax = xgb_classifier.feature_importances_[sorted_index[-top:]]\n",
    "plt.barh(x_ax, y_ax)\n",
    "plt.show()"
   ]
  },
  {
   "cell_type": "code",
   "execution_count": 41,
   "id": "3d0989c2",
   "metadata": {
    "execution": {
     "iopub.execute_input": "2023-08-25T08:43:52.989906Z",
     "iopub.status.busy": "2023-08-25T08:43:52.989565Z",
     "iopub.status.idle": "2023-08-25T08:43:53.438720Z",
     "shell.execute_reply": "2023-08-25T08:43:53.437696Z"
    },
    "papermill": {
     "duration": 0.471151,
     "end_time": "2023-08-25T08:43:53.441059",
     "exception": false,
     "start_time": "2023-08-25T08:43:52.969908",
     "status": "completed"
    },
    "tags": []
   },
   "outputs": [
    {
     "name": "stdout",
     "output_type": "stream",
     "text": [
      "Observed test accuracy = 78.83 %\n"
     ]
    }
   ],
   "source": [
    "# Predicting test data using this model\n",
    "y_test_pred = xgb.predict(x_test)\n",
    "print(f\"\"\"Observed test accuracy = {round(metrics.accuracy_score(y_test, y_test_pred)*100, 2)} %\"\"\")"
   ]
  },
  {
   "cell_type": "code",
   "execution_count": 42,
   "id": "d548f176",
   "metadata": {
    "execution": {
     "iopub.execute_input": "2023-08-25T08:43:53.480213Z",
     "iopub.status.busy": "2023-08-25T08:43:53.479925Z",
     "iopub.status.idle": "2023-08-25T08:43:53.485503Z",
     "shell.execute_reply": "2023-08-25T08:43:53.484641Z"
    },
    "papermill": {
     "duration": 0.027449,
     "end_time": "2023-08-25T08:43:53.487469",
     "exception": false,
     "start_time": "2023-08-25T08:43:53.460020",
     "status": "completed"
    },
    "tags": []
   },
   "outputs": [],
   "source": [
    "def plot_conf_matrix(y_true, y_pred):\n",
    "    conf_matrix = confusion_matrix(y_true, y_pred)\n",
    "    sns.heatmap(conf_matrix/np.sum(conf_matrix), fmt='.2%', annot=True, cmap='Blues')\n",
    "    plt.show()\n",
    "    return"
   ]
  },
  {
   "cell_type": "code",
   "execution_count": 43,
   "id": "8c8f34b8",
   "metadata": {
    "execution": {
     "iopub.execute_input": "2023-08-25T08:43:53.525473Z",
     "iopub.status.busy": "2023-08-25T08:43:53.525199Z",
     "iopub.status.idle": "2023-08-25T08:43:53.800331Z",
     "shell.execute_reply": "2023-08-25T08:43:53.799370Z"
    },
    "papermill": {
     "duration": 0.29662,
     "end_time": "2023-08-25T08:43:53.802460",
     "exception": false,
     "start_time": "2023-08-25T08:43:53.505840",
     "status": "completed"
    },
    "tags": []
   },
   "outputs": [
    {
     "data": {
      "image/png": "[encoded data removed]",
      "text/plain": [
       "<Figure size 640x480 with 2 Axes>"
      ]
     },
     "metadata": {},
     "output_type": "display_data"
    }
   ],
   "source": [
    "# Plotting confusion matrix to check where the errors are coming in from\n",
    "plot_conf_matrix(y_test, y_test_pred)"
   ]
  },
  {
   "cell_type": "markdown",
   "id": "199e2b68",
   "metadata": {
    "papermill": {
     "duration": 0.018936,
     "end_time": "2023-08-25T08:43:53.841232",
     "exception": false,
     "start_time": "2023-08-25T08:43:53.822296",
     "status": "completed"
    },
    "tags": []
   },
   "source": [
    "#### Changing threshold value for different optimization strategy - AUC, F1"
   ]
  },
  {
   "cell_type": "code",
   "execution_count": 44,
   "id": "881c8f5a",
   "metadata": {
    "execution": {
     "iopub.execute_input": "2023-08-25T08:43:53.880919Z",
     "iopub.status.busy": "2023-08-25T08:43:53.880355Z",
     "iopub.status.idle": "2023-08-25T08:43:54.322570Z",
     "shell.execute_reply": "2023-08-25T08:43:54.321775Z"
    },
    "papermill": {
     "duration": 0.464836,
     "end_time": "2023-08-25T08:43:54.325121",
     "exception": false,
     "start_time": "2023-08-25T08:43:53.860285",
     "status": "completed"
    },
    "tags": []
   },
   "outputs": [],
   "source": [
    "# Predicting test data using a lower threshold value\n",
    "threshold = 0.3\n",
    "y_test_pred_prob = xgb.predict_proba(x_test)\n",
    "y_test_pred= (y_test_pred_prob[:,1] > threshold) "
   ]
  },
  {
   "cell_type": "code",
   "execution_count": 45,
   "id": "b8b59028",
   "metadata": {
    "execution": {
     "iopub.execute_input": "2023-08-25T08:43:54.366342Z",
     "iopub.status.busy": "2023-08-25T08:43:54.366055Z",
     "iopub.status.idle": "2023-08-25T08:43:54.667264Z",
     "shell.execute_reply": "2023-08-25T08:43:54.666276Z"
    },
    "papermill": {
     "duration": 0.323502,
     "end_time": "2023-08-25T08:43:54.669509",
     "exception": false,
     "start_time": "2023-08-25T08:43:54.346007",
     "status": "completed"
    },
    "tags": []
   },
   "outputs": [
    {
     "data": {
      "image/png": "[encoded data removed]",
      "text/plain": [
       "<Figure size 640x480 with 1 Axes>"
      ]
     },
     "metadata": {},
     "output_type": "display_data"
    }
   ],
   "source": [
    "# Calculate ROC curve\n",
    "fpr, tpr, thresholds = metrics.roc_curve(y_test, y_test_pred_prob[:,1])\n",
    "\n",
    "# Calculate the area under the ROC curve (AUC)\n",
    "roc_auc = metrics.auc(fpr, tpr)\n",
    "\n",
    "# Plot the ROC curve\n",
    "plt.figure()\n",
    "plt.plot(fpr, tpr, color='darkorange', lw=2, label='ROC curve (AUC = {:.2f})'.format(roc_auc))\n",
    "plt.plot([0, 1], [0, 1], color='navy', lw=2, linestyle='--')\n",
    "plt.xlim([0.0, 1.0])\n",
    "plt.ylim([0.0, 1.05])\n",
    "plt.xlabel('False Positive Rate')\n",
    "plt.ylabel('True Positive Rate')\n",
    "plt.title('Receiver Operating Characteristic')\n",
    "plt.legend(loc=\"lower right\")\n",
    "plt.show()"
   ]
  },
  {
   "cell_type": "code",
   "execution_count": 46,
   "id": "fe3adcec",
   "metadata": {
    "execution": {
     "iopub.execute_input": "2023-08-25T08:43:54.710988Z",
     "iopub.status.busy": "2023-08-25T08:43:54.710160Z",
     "iopub.status.idle": "2023-08-25T08:43:58.185709Z",
     "shell.execute_reply": "2023-08-25T08:43:58.184681Z"
    },
    "papermill": {
     "duration": 3.498581,
     "end_time": "2023-08-25T08:43:58.188204",
     "exception": false,
     "start_time": "2023-08-25T08:43:54.689623",
     "status": "completed"
    },
    "tags": []
   },
   "outputs": [],
   "source": [
    "f1 = []\n",
    "for t in range(0,101):\n",
    "    y_pred = (y_test_pred_prob[:,1] >= t/100).astype(int)\n",
    "    # F1 Score\n",
    "    f = metrics.f1_score(y_test, y_pred)\n",
    "    f1.append(f)"
   ]
  },
  {
   "cell_type": "code",
   "execution_count": 47,
   "id": "3cd52aec",
   "metadata": {
    "execution": {
     "iopub.execute_input": "2023-08-25T08:43:58.230477Z",
     "iopub.status.busy": "2023-08-25T08:43:58.230178Z",
     "iopub.status.idle": "2023-08-25T08:43:58.243321Z",
     "shell.execute_reply": "2023-08-25T08:43:58.242382Z"
    },
    "papermill": {
     "duration": 0.036011,
     "end_time": "2023-08-25T08:43:58.245419",
     "exception": false,
     "start_time": "2023-08-25T08:43:58.209408",
     "status": "completed"
    },
    "tags": []
   },
   "outputs": [
    {
     "data": {
      "text/html": [
       "<div>\n",
       "<style scoped>\n",
       "    .dataframe tbody tr th:only-of-type {\n",
       "        vertical-align: middle;\n",
       "    }\n",
       "\n",
       "    .dataframe tbody tr th {\n",
       "        vertical-align: top;\n",
       "    }\n",
       "\n",
       "    .dataframe thead th {\n",
       "        text-align: right;\n",
       "    }\n",
       "</style>\n",
       "<table border=\"1\" class=\"dataframe\">\n",
       "  <thead>\n",
       "    <tr style=\"text-align: right;\">\n",
       "      <th></th>\n",
       "      <th>Threshold</th>\n",
       "      <th>F1</th>\n",
       "    </tr>\n",
       "  </thead>\n",
       "  <tbody>\n",
       "    <tr>\n",
       "      <th>0</th>\n",
       "      <td>0.00</td>\n",
       "      <td>0.349271</td>\n",
       "    </tr>\n",
       "    <tr>\n",
       "      <th>1</th>\n",
       "      <td>0.01</td>\n",
       "      <td>0.349834</td>\n",
       "    </tr>\n",
       "    <tr>\n",
       "      <th>2</th>\n",
       "      <td>0.02</td>\n",
       "      <td>0.352263</td>\n",
       "    </tr>\n",
       "    <tr>\n",
       "      <th>3</th>\n",
       "      <td>0.03</td>\n",
       "      <td>0.356430</td>\n",
       "    </tr>\n",
       "    <tr>\n",
       "      <th>4</th>\n",
       "      <td>0.04</td>\n",
       "      <td>0.361074</td>\n",
       "    </tr>\n",
       "    <tr>\n",
       "      <th>...</th>\n",
       "      <td>...</td>\n",
       "      <td>...</td>\n",
       "    </tr>\n",
       "    <tr>\n",
       "      <th>96</th>\n",
       "      <td>0.96</td>\n",
       "      <td>0.000000</td>\n",
       "    </tr>\n",
       "    <tr>\n",
       "      <th>97</th>\n",
       "      <td>0.97</td>\n",
       "      <td>0.000000</td>\n",
       "    </tr>\n",
       "    <tr>\n",
       "      <th>98</th>\n",
       "      <td>0.98</td>\n",
       "      <td>0.000000</td>\n",
       "    </tr>\n",
       "    <tr>\n",
       "      <th>99</th>\n",
       "      <td>0.99</td>\n",
       "      <td>0.000000</td>\n",
       "    </tr>\n",
       "    <tr>\n",
       "      <th>100</th>\n",
       "      <td>1.00</td>\n",
       "      <td>0.000000</td>\n",
       "    </tr>\n",
       "  </tbody>\n",
       "</table>\n",
       "<p>101 rows × 2 columns</p>\n",
       "</div>"
      ],
      "text/plain": [
       "     Threshold        F1\n",
       "0         0.00  0.349271\n",
       "1         0.01  0.349834\n",
       "2         0.02  0.352263\n",
       "3         0.03  0.356430\n",
       "4         0.04  0.361074\n",
       "..         ...       ...\n",
       "96        0.96  0.000000\n",
       "97        0.97  0.000000\n",
       "98        0.98  0.000000\n",
       "99        0.99  0.000000\n",
       "100       1.00  0.000000\n",
       "\n",
       "[101 rows x 2 columns]"
      ]
     },
     "execution_count": 47,
     "metadata": {},
     "output_type": "execute_result"
    }
   ],
   "source": [
    "pd.DataFrame({'Threshold':[i/100 for i in range(0,101)], 'F1':f1})"
   ]
  },
  {
   "cell_type": "code",
   "execution_count": 48,
   "id": "90f440d9",
   "metadata": {
    "execution": {
     "iopub.execute_input": "2023-08-25T08:43:58.286898Z",
     "iopub.status.busy": "2023-08-25T08:43:58.286228Z",
     "iopub.status.idle": "2023-08-25T08:43:58.290811Z",
     "shell.execute_reply": "2023-08-25T08:43:58.289900Z"
    },
    "papermill": {
     "duration": 0.027043,
     "end_time": "2023-08-25T08:43:58.292819",
     "exception": false,
     "start_time": "2023-08-25T08:43:58.265776",
     "status": "completed"
    },
    "tags": []
   },
   "outputs": [],
   "source": [
    "# Predicting test data using the threshold with max F1 score\n",
    "threshold = 0.2\n",
    "y_test_pred= (y_test_pred_prob[:,1] > threshold) "
   ]
  },
  {
   "cell_type": "code",
   "execution_count": 49,
   "id": "ef1778b9",
   "metadata": {
    "execution": {
     "iopub.execute_input": "2023-08-25T08:43:58.333899Z",
     "iopub.status.busy": "2023-08-25T08:43:58.333149Z",
     "iopub.status.idle": "2023-08-25T08:43:58.604521Z",
     "shell.execute_reply": "2023-08-25T08:43:58.603550Z"
    },
    "papermill": {
     "duration": 0.294313,
     "end_time": "2023-08-25T08:43:58.606720",
     "exception": false,
     "start_time": "2023-08-25T08:43:58.312407",
     "status": "completed"
    },
    "tags": []
   },
   "outputs": [
    {
     "data": {
      "image/png": "[encoded data removed]",
      "text/plain": [
       "<Figure size 640x480 with 2 Axes>"
      ]
     },
     "metadata": {},
     "output_type": "display_data"
    }
   ],
   "source": [
    "# Plotting confusion matrix to check where the errors are coming in from\n",
    "plot_conf_matrix(y_test, y_test_pred)"
   ]
  },
  {
   "cell_type": "code",
   "execution_count": 50,
   "id": "88d30c48",
   "metadata": {
    "execution": {
     "iopub.execute_input": "2023-08-25T08:43:58.649454Z",
     "iopub.status.busy": "2023-08-25T08:43:58.648578Z",
     "iopub.status.idle": "2023-08-25T08:43:58.934673Z",
     "shell.execute_reply": "2023-08-25T08:43:58.933644Z"
    },
    "papermill": {
     "duration": 0.309696,
     "end_time": "2023-08-25T08:43:58.936981",
     "exception": false,
     "start_time": "2023-08-25T08:43:58.627285",
     "status": "completed"
    },
    "tags": []
   },
   "outputs": [
    {
     "data": {
      "image/png": "[encoded data removed]",
      "text/plain": [
       "<Figure size 640x480 with 1 Axes>"
      ]
     },
     "metadata": {},
     "output_type": "display_data"
    }
   ],
   "source": [
    "# Precision-Recall Curve\n",
    "precision, recall, thresholds = metrics.precision_recall_curve(y_test,y_test_pred_prob[:,1])\n",
    "\n",
    "plt.figure()\n",
    "plt.plot(recall, precision, color='darkorange', lw=2)\n",
    "plt.plot([0, 1], [0, 1], color='navy', lw=2, linestyle='--')\n",
    "plt.xlim([0.0, 1.0])\n",
    "plt.ylim([0.0, 1.05])\n",
    "plt.xlabel('Recall')\n",
    "plt.ylabel('Precision')\n",
    "plt.title('Precision-Recall Curve')\n",
    "plt.legend(loc=\"lower right\")\n",
    "plt.show()"
   ]
  },
  {
   "cell_type": "markdown",
   "id": "21fe8b80",
   "metadata": {
    "papermill": {
     "duration": 0.020504,
     "end_time": "2023-08-25T08:43:58.981562",
     "exception": false,
     "start_time": "2023-08-25T08:43:58.961058",
     "status": "completed"
    },
    "tags": []
   },
   "source": [
    "### Unused function"
   ]
  },
  {
   "cell_type": "code",
   "execution_count": 51,
   "id": "ff849353",
   "metadata": {
    "execution": {
     "iopub.execute_input": "2023-08-25T08:43:59.023834Z",
     "iopub.status.busy": "2023-08-25T08:43:59.023326Z",
     "iopub.status.idle": "2023-08-25T08:43:59.029188Z",
     "shell.execute_reply": "2023-08-25T08:43:59.028280Z"
    },
    "papermill": {
     "duration": 0.029141,
     "end_time": "2023-08-25T08:43:59.031180",
     "exception": false,
     "start_time": "2023-08-25T08:43:59.002039",
     "status": "completed"
    },
    "tags": []
   },
   "outputs": [],
   "source": [
    "def get_monthdiff(given_date, reference_date = 'Jan-2016'):\n",
    "    if pd.isna(given_date):\n",
    "        return np.nan\n",
    "    # Given date\n",
    "    given_date = pd.to_datetime(given_date, format='%b-%Y')\n",
    "    # Reference date 'Jan-2016'\n",
    "    reference_date = pd.to_datetime(reference_date, format='%b-%Y')\n",
    "\n",
    "    # Calculate the difference in months\n",
    "    month_diff = math.floor((given_date - reference_date)/np.timedelta64(1, 'M'))\n",
    "    \n",
    "    return month_diff\n",
    "# X['last_pymnt_month_diff'] = X['last_pymnt_d'].apply(lambda d: get_monthdiff(d))"
   ]
  }
 ],
 "metadata": {
  "kernelspec": {
   "display_name": "Python 3",
   "language": "python",
   "name": "python3"
  },
  "language_info": {
   "codemirror_mode": {
    "name": "ipython",
    "version": 3
   },
   "file_extension": ".py",
   "mimetype": "text/x-python",
   "name": "python",
   "nbconvert_exporter": "python",
   "pygments_lexer": "ipython3",
   "version": "3.10.12"
  },
  "papermill": {
   "default_parameters": {},
   "duration": 563.077157,
   "end_time": "2023-08-25T08:44:00.175171",
   "environment_variables": {},
   "exception": null,
   "input_path": "__notebook__.ipynb",
   "output_path": "__notebook__.ipynb",
   "parameters": {},
   "start_time": "2023-08-25T08:34:37.098014",
   "version": "2.4.0"
  }
 },
 "nbformat": 4,
 "nbformat_minor": 5
}
